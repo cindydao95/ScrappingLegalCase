{
 "cells": [
  {
   "cell_type": "code",
   "execution_count": 1,
   "id": "ac7772fd",
   "metadata": {},
   "outputs": [],
   "source": [
    "import requests\n",
    "import time\n",
    "from selenium import webdriver\n",
    "from selenium.webdriver.chrome.service import Service\n",
    "from selenium.webdriver.common.by import By\n"
   ]
  },
  {
   "cell_type": "code",
   "execution_count": 2,
   "id": "bcc848cb",
   "metadata": {},
   "outputs": [],
   "source": [
    "from bs4 import BeautifulSoup"
   ]
  },
  {
   "cell_type": "code",
   "execution_count": 3,
   "id": "4acad906",
   "metadata": {},
   "outputs": [],
   "source": [
    "import bs4"
   ]
  },
  {
   "cell_type": "code",
   "execution_count": 4,
   "id": "16ad2503",
   "metadata": {},
   "outputs": [],
   "source": [
    "import json"
   ]
  },
  {
   "cell_type": "markdown",
   "id": "4330164b",
   "metadata": {},
   "source": [
    "# I. Get a list of document titles"
   ]
  },
  {
   "cell_type": "code",
   "execution_count": 38,
   "id": "a9e9eeea",
   "metadata": {
    "scrolled": false
   },
   "outputs": [],
   "source": [
    "mypath = \"edgedriver_win64\\\\msedgedriver.exe\"\n",
    "#s = Service(mypath)\n",
    "driver = webdriver.Edge(executable_path= mypath)"
   ]
  },
  {
   "cell_type": "code",
   "execution_count": 39,
   "id": "bfdd4d76",
   "metadata": {},
   "outputs": [],
   "source": [
    "url1 =\"https://advance.lexis.com/search/?pdmfid=1516831&crid=f1531e5b-e2a5-448c-bdeb-34e123fd4485&pdsearchtype=SearchBox&pdtypeofsearch=searchboxclick&pdstartin=&pdsearchterms=legal+case&pdtimeline=Previous+2+Years+%7C+p2y&pdpsf=&pdquerytemplateid=&pdsf=&ecomp=3bJgkgk&prid=387b52f1-8a0e-4526-b00e-161688824ebf\"\n",
    "driver.get(url1)"
   ]
  },
  {
   "cell_type": "code",
   "execution_count": 40,
   "id": "fed9c355",
   "metadata": {},
   "outputs": [],
   "source": [
    "#get title of documents\n",
    "\n",
    "def get_doc_title():\n",
    "    time.sleep(5)\n",
    "    \n",
    "    title_elements = driver.find_elements(By.XPATH,\"//ol[@class='nexisuni-result-list']/li[{n}]/div/h2/a\".format(n = i*2+2))\n",
    "    title_texts = []\n",
    "    for t in title_elements:\n",
    "        title_text = t.text\n",
    "        title_texts.append(title_text)\n",
    "    return title_texts"
   ]
  },
  {
   "cell_type": "code",
   "execution_count": 42,
   "id": "3f154c8f",
   "metadata": {},
   "outputs": [],
   "source": [
    "list_of_list_title = []\n",
    "for k in range(2):\n",
    "    for i in range(10):\n",
    "        doc = driver.find_element(By.XPATH,\"//ol[@class='nexisuni-result-list']/li[{n}]/div/div[2]/article/p\".format(n = i*2+2))\n",
    "        overview = doc.get_attribute(\"class\")\n",
    "        if overview == \"overview min\":\n",
    "            list_of_list_title.append(get_doc_title())\n",
    "    time.sleep(5)\n",
    "    next_page = driver.find_element(By.XPATH,\"//a[@class='icon la-TriangleRight action' and @href='#' and @data-action='nextpage']\")\n",
    "    next_page.click()\n",
    "\n",
    "driver.close()"
   ]
  },
  {
   "cell_type": "code",
   "execution_count": 43,
   "id": "e109f7e4",
   "metadata": {},
   "outputs": [],
   "source": [
    "document_titles = []"
   ]
  },
  {
   "cell_type": "code",
   "execution_count": 44,
   "id": "940e622a",
   "metadata": {},
   "outputs": [],
   "source": [
    "document_titles = [item for element in list_of_list_title for item in element]\n"
   ]
  },
  {
   "cell_type": "code",
   "execution_count": 47,
   "id": "39e2429b",
   "metadata": {},
   "outputs": [
    {
     "data": {
      "text/plain": [
       "20"
      ]
     },
     "execution_count": 47,
     "metadata": {},
     "output_type": "execute_result"
    }
   ],
   "source": [
    "len(document_titles)"
   ]
  },
  {
   "cell_type": "code",
   "execution_count": 35,
   "id": "0e14bdc5",
   "metadata": {},
   "outputs": [
    {
     "data": {
      "text/plain": [
       "19"
      ]
     },
     "execution_count": 35,
     "metadata": {},
     "output_type": "execute_result"
    }
   ],
   "source": [
    "len(document_titles)"
   ]
  },
  {
   "cell_type": "code",
   "execution_count": 36,
   "id": "c5b7300f",
   "metadata": {},
   "outputs": [],
   "source": [
    "my_file = open('document_titles.txt', 'w', encoding=\"utf-8\", newline=\"\")"
   ]
  },
  {
   "cell_type": "code",
   "execution_count": 37,
   "id": "951ef148",
   "metadata": {},
   "outputs": [],
   "source": [
    "for t in document_titles:\n",
    "    my_file.write(t)\n",
    "    my_file.write('\\n')\n",
    "my_file.close()"
   ]
  },
  {
   "cell_type": "markdown",
   "id": "32dc4c2e",
   "metadata": {},
   "source": [
    "# II. Get content of document from the above document title"
   ]
  },
  {
   "cell_type": "code",
   "execution_count": 66,
   "id": "5482dafd",
   "metadata": {},
   "outputs": [],
   "source": [
    "def get_core_term():\n",
    "    core_term_dict = {}\n",
    "    core_terms = []\n",
    "    all_elements = driver.find_element(By.XPATH,\"//main[@role='main']\")\n",
    "\n",
    "    #all_elements = driver.find_element(By.XPATH,\"//main[@id='4sk8k']\")\n",
    "    html_doc = all_elements.get_attribute('outerHTML')\n",
    "    soup = BeautifulSoup(html_doc,\"html.parser\")\n",
    "    child_lists = list(soup.select('.SS_LeftAlign')[0].children)\n",
    "    for c in child_lists:\n",
    "        if (c.text) == 'Core Terms':\n",
    "            index_ = int(child_lists.index(c))\n",
    "    coreterms = child_lists[index_+2]\n",
    "    \n",
    "    core_term_dict['Core Terms'] = coreterms\n",
    "    return core_term_dict"
   ]
  },
  {
   "cell_type": "code",
   "execution_count": 40,
   "id": "18c433ba",
   "metadata": {},
   "outputs": [],
   "source": [
    "def get_overview_doc():\n",
    "    body_doc = driver.find_elements(By.XPATH,\"//span[@class='SS_EditorialContent']/*\")\n",
    "    overview_dict = {}\n",
    "    myKey = ''\n",
    "    myValue = ''\n",
    "    for i in range(len(body_doc)):\n",
    "        tag_name = body_doc[i].tag_name\n",
    "        if tag_name.startswith('span'):\n",
    "            myKey = body_doc[i].text\n",
    "        elif tag_name.startswith('p'):\n",
    "            myValue = body_doc[i].text\n",
    "        if myKey and myValue:\n",
    "            overview_dict[myKey] = myValue\n",
    "    return overview_dict\n"
   ]
  },
  {
   "cell_type": "code",
   "execution_count": 41,
   "id": "6fea4310",
   "metadata": {},
   "outputs": [],
   "source": [
    "def get_body_doc():\n",
    "    all_content_elements = driver.find_elements(By.XPATH,\"//span[@class='SS_LeftAlign']/*\")\n",
    "    detail_dict = {}\n",
    "    myKey = ''\n",
    "    myValue = ''\n",
    "    for i in range(len(all_content_elements)):\n",
    "        attribute = all_content_elements[i].get_attribute('class')\n",
    "        tag_name = all_content_elements[i].tag_name\n",
    "        if tag_name.startswith('span') and attribute == 'SS_bf':\n",
    "            if myKey:\n",
    "                detail_dict[myKey] = myValue\n",
    "                myKey = ''\n",
    "                myValue = ''\n",
    "            myKey = all_content_elements[i].text\n",
    "        if tag_name.startswith('p') and myKey:\n",
    "            myValue = myValue + all_content_elements[i].text\n",
    "    detail_dict[myKey] = myValue\n",
    "    return detail_dict"
   ]
  },
  {
   "cell_type": "code",
   "execution_count": 53,
   "id": "1e4e6ef5",
   "metadata": {},
   "outputs": [],
   "source": [
    "mypath = \"edgedriver_win64\\\\msedgedriver.exe\"\n",
    "#s = Service(mypath)\n",
    "driver = webdriver.Edge(executable_path= mypath)"
   ]
  },
  {
   "cell_type": "code",
   "execution_count": 54,
   "id": "6433a4ae",
   "metadata": {},
   "outputs": [],
   "source": [
    "url2 = 'https://advance-lexis-com.libproxy.library.unt.edu/search/?pdmfid=1516831&crid=cacd72d1-84b5-470a-8358-7b6f69c84643&pdsearchtype=SearchBox&pdtypeofsearch=searchboxclick&pdstartin=&pdsearchterms=Zive+v.+Sandberg%2C+610+S.W.3d+44&pdtimeline=Previous+2+Years+%7C+p2y&pdpsf=&pdquerytemplateid=&pdsf=&ecomp=bbJgkgk&prid=033a47fc-431f-4814-b8a3-ac5068c93b58'"
   ]
  },
  {
   "cell_type": "code",
   "execution_count": 55,
   "id": "b76e1709",
   "metadata": {},
   "outputs": [],
   "source": [
    "driver.get(url2)"
   ]
  },
  {
   "cell_type": "code",
   "execution_count": 62,
   "id": "92fb81f2",
   "metadata": {},
   "outputs": [],
   "source": [
    "documents = []"
   ]
  },
  {
   "cell_type": "code",
   "execution_count": 89,
   "id": "8ef68fc5",
   "metadata": {},
   "outputs": [],
   "source": [
    "for title in document_titles:\n",
    "    document_dict = {}\n",
    "    core_term_dict = {}\n",
    "    overview_dict = {}\n",
    "    body_doc_dict = {}\n",
    "    document_dict['Title'] = title\n",
    "    #time.sleep(5)\n",
    "    #driver.find_element(By.XPATH,\"//textarea[@aria-label='Enter Search Term' and @type ='text']\").clear()\n",
    "    driver.find_element(By.TAG_NAME,'textarea').clear()\n",
    "    time.sleep(3)\n",
    "    driver.find_element(By.TAG_NAME,'textarea').send_keys(title)\n",
    "    time.sleep(3)\n",
    "    button = driver.find_element(By.XPATH,\"//button[@type='button' and @class = 'icon la-Search mainSearch' and @aria-label='Search']\")\n",
    "    button.click()\n",
    "    try:\n",
    "        core_term_dict = get_core_term()\n",
    "        time.sleep(5)\n",
    "        overview_dict = get_overview_doc()\n",
    "        time.sleep(5)\n",
    "        body_doc_dict = get_body_doc()\n",
    "        for i in core_term_dict:\n",
    "            document_dict[i] = core_term_dict[i]\n",
    "        for i in overview_dict:\n",
    "            document_dict[i] = overview_dict[i]\n",
    "        for i in body_doc_dict:\n",
    "            document_dict[i] = body_doc_dict[i] \n",
    "    except:\n",
    "        continue\n",
    "        \n",
    "    documents.append(document_dict)"
   ]
  },
  {
   "cell_type": "code",
   "execution_count": 103,
   "id": "4a27baed",
   "metadata": {},
   "outputs": [],
   "source": [
    "driver.close()"
   ]
  },
  {
   "cell_type": "code",
   "execution_count": 106,
   "id": "a99ffc1e",
   "metadata": {},
   "outputs": [],
   "source": [
    "myfile = open('200_legal_case_documents.json','w')\n",
    "\n",
    "json.dump(documents,myfile)\n",
    "\n",
    "myfile.close()"
   ]
  },
  {
   "cell_type": "code",
   "execution_count": 116,
   "id": "d954655d",
   "metadata": {},
   "outputs": [],
   "source": [
    "f = open('legal_case_documents.json','r')\n",
    "data = json.load(f)"
   ]
  },
  {
   "cell_type": "code",
   "execution_count": 119,
   "id": "0f5d6bb1",
   "metadata": {},
   "outputs": [],
   "source": [
    "f.close()"
   ]
  }
 ],
 "metadata": {
  "kernelspec": {
   "display_name": "Python 3.9.13",
   "language": "python",
   "name": "python3"
  },
  "language_info": {
   "codemirror_mode": {
    "name": "ipython",
    "version": 3
   },
   "file_extension": ".py",
   "mimetype": "text/x-python",
   "name": "python",
   "nbconvert_exporter": "python",
   "pygments_lexer": "ipython3",
   "version": "3.9.13"
  },
  "vscode": {
   "interpreter": {
    "hash": "911062f88ac489ddaf508dd5fe8c719025320894c746c2591692f5507eaaa207"
   }
  }
 },
 "nbformat": 4,
 "nbformat_minor": 5
}
