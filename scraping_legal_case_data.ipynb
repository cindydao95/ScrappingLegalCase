{
 "cells": [
  {
   "cell_type": "code",
   "execution_count": 27,
   "id": "ac7772fd",
   "metadata": {},
   "outputs": [],
   "source": [
    "import requests\n",
    "import time\n",
    "from selenium import webdriver\n",
    "from selenium.webdriver.chrome.service import Service\n",
    "from selenium.webdriver.common.by import By\n"
   ]
  },
  {
   "cell_type": "code",
   "execution_count": 28,
   "id": "bcc848cb",
   "metadata": {},
   "outputs": [],
   "source": [
    "from bs4 import BeautifulSoup"
   ]
  },
  {
   "cell_type": "code",
   "execution_count": 29,
   "id": "4acad906",
   "metadata": {},
   "outputs": [],
   "source": [
    "import bs4"
   ]
  },
  {
   "cell_type": "code",
   "execution_count": 30,
   "id": "16ad2503",
   "metadata": {},
   "outputs": [],
   "source": [
    "import json"
   ]
  },
  {
   "cell_type": "markdown",
   "id": "4330164b",
   "metadata": {},
   "source": [
    "# I. Get a list of document titles"
   ]
  },
  {
   "cell_type": "code",
   "execution_count": 17,
   "id": "a9e9eeea",
   "metadata": {
    "scrolled": false
   },
   "outputs": [],
   "source": [
    "mypath = \"edgedriver_win64\\\\msedgedriver.exe\"\n",
    "#s = Service(mypath)\n",
    "driver = webdriver.Edge(executable_path= mypath)"
   ]
  },
  {
   "cell_type": "code",
   "execution_count": 18,
   "id": "bfdd4d76",
   "metadata": {},
   "outputs": [],
   "source": [
    "url1 =\"https://advance.lexis.com/search/?pdmfid=1516831&crid=f1531e5b-e2a5-448c-bdeb-34e123fd4485&pdsearchtype=SearchBox&pdtypeofsearch=searchboxclick&pdstartin=&pdsearchterms=legal+case&pdtimeline=Previous+2+Years+%7C+p2y&pdpsf=&pdquerytemplateid=&pdsf=&ecomp=3bJgkgk&prid=387b52f1-8a0e-4526-b00e-161688824ebf\"\n",
    "driver.get(url1)"
   ]
  },
  {
   "cell_type": "code",
   "execution_count": 19,
   "id": "fed9c355",
   "metadata": {},
   "outputs": [],
   "source": [
    "#get title of documents\n",
    "\n",
    "def get_doc_title(f):\n",
    "    time.sleep(2)\n",
    "    \n",
    "    title_element = driver.find_element(By.XPATH,\"//ol[@class='nexisuni-result-list']/li[{n}]/div/h2/a\".format(n = f*2+2))\n",
    "    \n",
    "    title_text = title_element.text\n",
    "    return title_text"
   ]
  },
  {
   "cell_type": "code",
   "execution_count": 20,
   "id": "3f154c8f",
   "metadata": {},
   "outputs": [],
   "source": [
    "for n in range(3):\n",
    "    \n",
    "    for k in range(250):\n",
    "        for i in range(10):\n",
    "            doc = driver.find_element(By.XPATH,\"//ol[@class='nexisuni-result-list']/li[{n}]/div/div[2]/article/p\".format(n = i*2+2))\n",
    "            overview = doc.get_attribute(\"class\")\n",
    "            if overview == \"overview min\":\n",
    "                title = get_doc_title(f = i)\n",
    "                with open('document_title_{nth}_bward.txt'.format(nth = n),\"a+\", encoding=\"utf-8\", newline=\"\") as title_file:\n",
    "                    title_file.write(title)\n",
    "                    title_file.write('\\n')\n",
    "        time.sleep(2)\n",
    "        next_page = driver.find_element(By.XPATH,\"//a[@class='icon la-TriangleLeft action' and @href='#' and @data-action='prevpage']\")\n",
    "        next_page.click()\n",
    "    \n"
   ]
  },
  {
   "cell_type": "code",
   "execution_count": null,
   "id": "cdae6fd6",
   "metadata": {},
   "outputs": [],
   "source": [
    "driver.close()"
   ]
  },
  {
   "cell_type": "markdown",
   "id": "32dc4c2e",
   "metadata": {},
   "source": [
    "# II. Get content of document from the above document title"
   ]
  },
  {
   "cell_type": "code",
   "execution_count": 21,
   "id": "54c6f935",
   "metadata": {},
   "outputs": [],
   "source": [
    "\n",
    "with open(\"document_titles.txt\",\"r\") as infile:\n",
    "    lines = infile.readlines()\n",
    "    "
   ]
  },
  {
   "cell_type": "code",
   "execution_count": 22,
   "id": "67bacfd8",
   "metadata": {},
   "outputs": [],
   "source": [
    "document_titles = []\n",
    "\n",
    "for line in lines:\n",
    "    document_titles.append(line.strip(\"\\n\"))"
   ]
  },
  {
   "cell_type": "code",
   "execution_count": 23,
   "id": "bb828f01",
   "metadata": {},
   "outputs": [],
   "source": [
    "unique_document_titles = list(set(document_titles[527:]))"
   ]
  },
  {
   "cell_type": "code",
   "execution_count": 31,
   "id": "5482dafd",
   "metadata": {},
   "outputs": [],
   "source": [
    "def get_core_term():\n",
    "    core_term_dict = {}\n",
    "    core_terms = []\n",
    "    all_elements = driver.find_element(By.XPATH,\"//main[@role='main']\")\n",
    "\n",
    "    #all_elements = driver.find_element(By.XPATH,\"//main[@id='4sk8k']\")\n",
    "    html_doc = all_elements.get_attribute('outerHTML')\n",
    "    soup = BeautifulSoup(html_doc,\"html.parser\")\n",
    "    child_lists = list(soup.select('.SS_LeftAlign')[0].children)\n",
    "    for c in child_lists:\n",
    "        if (c.text) == 'Core Terms':\n",
    "            index_ = int(child_lists.index(c))\n",
    "    coreterms = child_lists[index_+2]\n",
    "    \n",
    "    core_term_dict['Core Terms'] = coreterms\n",
    "    return core_term_dict"
   ]
  },
  {
   "cell_type": "code",
   "execution_count": 32,
   "id": "18c433ba",
   "metadata": {},
   "outputs": [],
   "source": [
    "def get_overview_doc():\n",
    "    body_doc = driver.find_elements(By.XPATH,\"//span[@class='SS_EditorialContent']/*\")\n",
    "    overview_dict = {}\n",
    "    myKey = ''\n",
    "    myValue = ''\n",
    "    for i in range(len(body_doc)):\n",
    "        tag_name = body_doc[i].tag_name\n",
    "        if tag_name.startswith('span'):\n",
    "            myKey = body_doc[i].text\n",
    "        elif tag_name.startswith('p'):\n",
    "            myValue = body_doc[i].text\n",
    "        if myKey and myValue:\n",
    "            overview_dict[myKey] = myValue\n",
    "    return overview_dict\n"
   ]
  },
  {
   "cell_type": "code",
   "execution_count": 33,
   "id": "6fea4310",
   "metadata": {},
   "outputs": [],
   "source": [
    "def get_body_doc():\n",
    "    all_content_elements = driver.find_elements(By.XPATH,\"//span[@class='SS_LeftAlign']/*\")\n",
    "    detail_dict = {}\n",
    "    myKey = ''\n",
    "    myValue = ''\n",
    "    for i in range(len(all_content_elements)):\n",
    "        attribute = all_content_elements[i].get_attribute('class')\n",
    "        tag_name = all_content_elements[i].tag_name\n",
    "        if tag_name.startswith('span') and attribute == 'SS_bf':\n",
    "            if myKey:\n",
    "                detail_dict[myKey] = myValue\n",
    "                myKey = ''\n",
    "                myValue = ''\n",
    "            myKey = all_content_elements[i].text\n",
    "        if tag_name.startswith('p') and myKey:\n",
    "            myValue = myValue + all_content_elements[i].text\n",
    "    detail_dict[myKey] = myValue\n",
    "    return detail_dict"
   ]
  },
  {
   "cell_type": "code",
   "execution_count": 34,
   "id": "1e4e6ef5",
   "metadata": {},
   "outputs": [],
   "source": [
    "mypath = \"edgedriver_win64\\\\msedgedriver.exe\"\n",
    "#s = Service(mypath)\n",
    "driver = webdriver.Edge(executable_path= mypath)\n",
    "url2 = 'https://advance-lexis-com.libproxy.library.unt.edu/search/?pdmfid=1516831&crid=cacd72d1-84b5-470a-8358-7b6f69c84643&pdsearchtype=SearchBox&pdtypeofsearch=searchboxclick&pdstartin=&pdsearchterms=Zive+v.+Sandberg%2C+610+S.W.3d+44&pdtimeline=Previous+2+Years+%7C+p2y&pdpsf=&pdquerytemplateid=&pdsf=&ecomp=bbJgkgk&prid=033a47fc-431f-4814-b8a3-ac5068c93b58'"
   ]
  },
  {
   "cell_type": "code",
   "execution_count": 36,
   "id": "b76e1709",
   "metadata": {},
   "outputs": [],
   "source": [
    "driver.get(url2)"
   ]
  },
  {
   "cell_type": "code",
   "execution_count": 37,
   "id": "8ef68fc5",
   "metadata": {},
   "outputs": [
    {
     "ename": "NoSuchElementException",
     "evalue": "Message: no such element: Unable to locate element: {\"method\":\"css selector\",\"selector\":\"textarea\"}\n  (Session info: MicrosoftEdge=108.0.1462.42)\n",
     "output_type": "error",
     "traceback": [
      "\u001b[1;31m---------------------------------------------------------------------------\u001b[0m",
      "\u001b[1;31mNoSuchElementException\u001b[0m                    Traceback (most recent call last)",
      "\u001b[1;32m~\\AppData\\Local\\Temp\\ipykernel_23100\\984147450.py\u001b[0m in \u001b[0;36m<module>\u001b[1;34m\u001b[0m\n\u001b[0;32m      8\u001b[0m     \u001b[1;31m#time.sleep(5)\u001b[0m\u001b[1;33m\u001b[0m\u001b[1;33m\u001b[0m\u001b[0m\n\u001b[0;32m      9\u001b[0m     \u001b[1;31m#driver.find_element(By.XPATH,\"//textarea[@aria-label='Enter Search Term' and @type ='text']\").clear()\u001b[0m\u001b[1;33m\u001b[0m\u001b[1;33m\u001b[0m\u001b[0m\n\u001b[1;32m---> 10\u001b[1;33m     \u001b[0mdriver\u001b[0m\u001b[1;33m.\u001b[0m\u001b[0mfind_element\u001b[0m\u001b[1;33m(\u001b[0m\u001b[0mBy\u001b[0m\u001b[1;33m.\u001b[0m\u001b[0mTAG_NAME\u001b[0m\u001b[1;33m,\u001b[0m\u001b[1;34m'textarea'\u001b[0m\u001b[1;33m)\u001b[0m\u001b[1;33m.\u001b[0m\u001b[0mclear\u001b[0m\u001b[1;33m(\u001b[0m\u001b[1;33m)\u001b[0m\u001b[1;33m\u001b[0m\u001b[1;33m\u001b[0m\u001b[0m\n\u001b[0m\u001b[0;32m     11\u001b[0m     \u001b[0mtime\u001b[0m\u001b[1;33m.\u001b[0m\u001b[0msleep\u001b[0m\u001b[1;33m(\u001b[0m\u001b[1;36m3\u001b[0m\u001b[1;33m)\u001b[0m\u001b[1;33m\u001b[0m\u001b[1;33m\u001b[0m\u001b[0m\n\u001b[0;32m     12\u001b[0m     \u001b[0mdriver\u001b[0m\u001b[1;33m.\u001b[0m\u001b[0mfind_element\u001b[0m\u001b[1;33m(\u001b[0m\u001b[0mBy\u001b[0m\u001b[1;33m.\u001b[0m\u001b[0mTAG_NAME\u001b[0m\u001b[1;33m,\u001b[0m\u001b[1;34m'textarea'\u001b[0m\u001b[1;33m)\u001b[0m\u001b[1;33m.\u001b[0m\u001b[0msend_keys\u001b[0m\u001b[1;33m(\u001b[0m\u001b[0mtitle\u001b[0m\u001b[1;33m)\u001b[0m\u001b[1;33m\u001b[0m\u001b[1;33m\u001b[0m\u001b[0m\n",
      "\u001b[1;32mc:\\Users\\cindydao\\anaconda3\\lib\\site-packages\\selenium\\webdriver\\remote\\webdriver.py\u001b[0m in \u001b[0;36mfind_element\u001b[1;34m(self, by, value)\u001b[0m\n\u001b[0;32m    974\u001b[0m                 \u001b[0mby\u001b[0m \u001b[1;33m=\u001b[0m \u001b[0mBy\u001b[0m\u001b[1;33m.\u001b[0m\u001b[0mCSS_SELECTOR\u001b[0m\u001b[1;33m\u001b[0m\u001b[1;33m\u001b[0m\u001b[0m\n\u001b[0;32m    975\u001b[0m                 \u001b[0mvalue\u001b[0m \u001b[1;33m=\u001b[0m \u001b[1;34m'[name=\"%s\"]'\u001b[0m \u001b[1;33m%\u001b[0m \u001b[0mvalue\u001b[0m\u001b[1;33m\u001b[0m\u001b[1;33m\u001b[0m\u001b[0m\n\u001b[1;32m--> 976\u001b[1;33m         return self.execute(Command.FIND_ELEMENT, {\n\u001b[0m\u001b[0;32m    977\u001b[0m             \u001b[1;34m'using'\u001b[0m\u001b[1;33m:\u001b[0m \u001b[0mby\u001b[0m\u001b[1;33m,\u001b[0m\u001b[1;33m\u001b[0m\u001b[1;33m\u001b[0m\u001b[0m\n\u001b[0;32m    978\u001b[0m             'value': value})['value']\n",
      "\u001b[1;32mc:\\Users\\cindydao\\anaconda3\\lib\\site-packages\\selenium\\webdriver\\remote\\webdriver.py\u001b[0m in \u001b[0;36mexecute\u001b[1;34m(self, driver_command, params)\u001b[0m\n\u001b[0;32m    319\u001b[0m         \u001b[0mresponse\u001b[0m \u001b[1;33m=\u001b[0m \u001b[0mself\u001b[0m\u001b[1;33m.\u001b[0m\u001b[0mcommand_executor\u001b[0m\u001b[1;33m.\u001b[0m\u001b[0mexecute\u001b[0m\u001b[1;33m(\u001b[0m\u001b[0mdriver_command\u001b[0m\u001b[1;33m,\u001b[0m \u001b[0mparams\u001b[0m\u001b[1;33m)\u001b[0m\u001b[1;33m\u001b[0m\u001b[1;33m\u001b[0m\u001b[0m\n\u001b[0;32m    320\u001b[0m         \u001b[1;32mif\u001b[0m \u001b[0mresponse\u001b[0m\u001b[1;33m:\u001b[0m\u001b[1;33m\u001b[0m\u001b[1;33m\u001b[0m\u001b[0m\n\u001b[1;32m--> 321\u001b[1;33m             \u001b[0mself\u001b[0m\u001b[1;33m.\u001b[0m\u001b[0merror_handler\u001b[0m\u001b[1;33m.\u001b[0m\u001b[0mcheck_response\u001b[0m\u001b[1;33m(\u001b[0m\u001b[0mresponse\u001b[0m\u001b[1;33m)\u001b[0m\u001b[1;33m\u001b[0m\u001b[1;33m\u001b[0m\u001b[0m\n\u001b[0m\u001b[0;32m    322\u001b[0m             response['value'] = self._unwrap_value(\n\u001b[0;32m    323\u001b[0m                 response.get('value', None))\n",
      "\u001b[1;32mc:\\Users\\cindydao\\anaconda3\\lib\\site-packages\\selenium\\webdriver\\remote\\errorhandler.py\u001b[0m in \u001b[0;36mcheck_response\u001b[1;34m(self, response)\u001b[0m\n\u001b[0;32m    240\u001b[0m                 \u001b[0malert_text\u001b[0m \u001b[1;33m=\u001b[0m \u001b[0mvalue\u001b[0m\u001b[1;33m[\u001b[0m\u001b[1;34m'alert'\u001b[0m\u001b[1;33m]\u001b[0m\u001b[1;33m.\u001b[0m\u001b[0mget\u001b[0m\u001b[1;33m(\u001b[0m\u001b[1;34m'text'\u001b[0m\u001b[1;33m)\u001b[0m\u001b[1;33m\u001b[0m\u001b[1;33m\u001b[0m\u001b[0m\n\u001b[0;32m    241\u001b[0m             \u001b[1;32mraise\u001b[0m \u001b[0mexception_class\u001b[0m\u001b[1;33m(\u001b[0m\u001b[0mmessage\u001b[0m\u001b[1;33m,\u001b[0m \u001b[0mscreen\u001b[0m\u001b[1;33m,\u001b[0m \u001b[0mstacktrace\u001b[0m\u001b[1;33m,\u001b[0m \u001b[0malert_text\u001b[0m\u001b[1;33m)\u001b[0m\u001b[1;33m\u001b[0m\u001b[1;33m\u001b[0m\u001b[0m\n\u001b[1;32m--> 242\u001b[1;33m         \u001b[1;32mraise\u001b[0m \u001b[0mexception_class\u001b[0m\u001b[1;33m(\u001b[0m\u001b[0mmessage\u001b[0m\u001b[1;33m,\u001b[0m \u001b[0mscreen\u001b[0m\u001b[1;33m,\u001b[0m \u001b[0mstacktrace\u001b[0m\u001b[1;33m)\u001b[0m\u001b[1;33m\u001b[0m\u001b[1;33m\u001b[0m\u001b[0m\n\u001b[0m\u001b[0;32m    243\u001b[0m \u001b[1;33m\u001b[0m\u001b[0m\n\u001b[0;32m    244\u001b[0m     \u001b[1;32mdef\u001b[0m \u001b[0m_value_or_default\u001b[0m\u001b[1;33m(\u001b[0m\u001b[0mself\u001b[0m\u001b[1;33m,\u001b[0m \u001b[0mobj\u001b[0m\u001b[1;33m,\u001b[0m \u001b[0mkey\u001b[0m\u001b[1;33m,\u001b[0m \u001b[0mdefault\u001b[0m\u001b[1;33m)\u001b[0m\u001b[1;33m:\u001b[0m\u001b[1;33m\u001b[0m\u001b[1;33m\u001b[0m\u001b[0m\n",
      "\u001b[1;31mNoSuchElementException\u001b[0m: Message: no such element: Unable to locate element: {\"method\":\"css selector\",\"selector\":\"textarea\"}\n  (Session info: MicrosoftEdge=108.0.1462.42)\n"
     ]
    }
   ],
   "source": [
    "count = 0\n",
    "for title in unique_document_titles[count:]:\n",
    "    document_dict = {}\n",
    "    core_term_dict = {}\n",
    "    overview_dict = {}\n",
    "    body_doc_dict = {}\n",
    "    document_dict['Title'] = title\n",
    "    #time.sleep(5)\n",
    "    #driver.find_element(By.XPATH,\"//textarea[@aria-label='Enter Search Term' and @type ='text']\").clear()\n",
    "    driver.find_element(By.TAG_NAME,'textarea').clear()\n",
    "    time.sleep(3)\n",
    "    driver.find_element(By.TAG_NAME,'textarea').send_keys(title)\n",
    "    time.sleep(3)\n",
    "    button = driver.find_element(By.XPATH,\"//button[@type='button' and @class = 'icon la-Search mainSearch' and @aria-label='Search']\")\n",
    "    button.click()\n",
    "    try:\n",
    "        core_term_dict = get_core_term()\n",
    "        time.sleep(4)\n",
    "        overview_dict = get_overview_doc()\n",
    "        time.sleep(4)\n",
    "        body_doc_dict = get_body_doc()\n",
    "        for i in core_term_dict:\n",
    "            document_dict[i] = core_term_dict[i]\n",
    "        for i in overview_dict:\n",
    "            document_dict[i] = overview_dict[i]\n",
    "        for i in body_doc_dict:\n",
    "            document_dict[i] = body_doc_dict[i] \n",
    "    except:\n",
    "        continue\n",
    "    count =+ 1\n",
    "    with open('200_legal_case_documents.json','a') as outfile:\n",
    "        json.dump(document_dict,outfile)\n",
    "        outfile.close()    \n",
    "    if count % 10 == 0:\n",
    "        print(count)"
   ]
  },
  {
   "cell_type": "code",
   "execution_count": 103,
   "id": "4a27baed",
   "metadata": {},
   "outputs": [],
   "source": [
    "driver.close()"
   ]
  },
  {
   "cell_type": "code",
   "execution_count": 116,
   "id": "d954655d",
   "metadata": {},
   "outputs": [],
   "source": [
    "f = open('legal_case_documents.json','r')\n",
    "data = json.load(f)"
   ]
  },
  {
   "cell_type": "code",
   "execution_count": 119,
   "id": "0f5d6bb1",
   "metadata": {},
   "outputs": [],
   "source": [
    "f.close()"
   ]
  }
 ],
 "metadata": {
  "kernelspec": {
   "display_name": "Python 3.9.13",
   "language": "python",
   "name": "python3"
  },
  "language_info": {
   "codemirror_mode": {
    "name": "ipython",
    "version": 3
   },
   "file_extension": ".py",
   "mimetype": "text/x-python",
   "name": "python",
   "nbconvert_exporter": "python",
   "pygments_lexer": "ipython3",
   "version": "3.9.13"
  },
  "vscode": {
   "interpreter": {
    "hash": "911062f88ac489ddaf508dd5fe8c719025320894c746c2591692f5507eaaa207"
   }
  }
 },
 "nbformat": 4,
 "nbformat_minor": 5
}
